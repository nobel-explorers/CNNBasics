{
 "cells": [
  {
   "cell_type": "markdown",
   "metadata": {},
   "source": [
    "## Welcome to iPython Notebook!\n",
    "#### First, let's import everything we need. You don't need to worry about these, they're just libraries we'll be using in our code"
   ]
  },
  {
   "cell_type": "code",
   "execution_count": 1,
   "metadata": {
    "collapsed": false
   },
   "outputs": [],
   "source": [
    "import my_widgets as mw\n",
    "#https://storage.googleapis.com/download.tensorflow.org/example_images/flower_photos.tgz"
   ]
  },
  {
   "cell_type": "markdown",
   "metadata": {
    "collapsed": false
   },
   "source": [
    "#### To make it easier to edit, we're going to use some cool widgets to adjust variables!\n",
    "I built them in a separate file to keep things focused on building the network, but we'll be using them throughout the program.\n",
    "Use this one to adjust the size of our image "
   ]
  },
  {
   "cell_type": "code",
   "execution_count": 2,
   "metadata": {
    "collapsed": false
   },
   "outputs": [],
   "source": [
    "widgetlist=mw.all_widgets()\n"
   ]
  },
  {
   "cell_type": "code",
   "execution_count": 3,
   "metadata": {
    "collapsed": false
   },
   "outputs": [],
   "source": [
    "for widget in widgetlist:\n",
    "    display(widget)"
   ]
  },
  {
   "cell_type": "code",
   "execution_count": null,
   "metadata": {
    "collapsed": true
   },
   "outputs": [],
   "source": []
  }
 ],
 "metadata": {
  "kernelspec": {
   "display_name": "Python 3.7",
   "language": "python",
   "name": "python3.7"
  },
  "language_info": {
   "codemirror_mode": {
    "name": "ipython",
    "version": 3
   },
   "file_extension": ".py",
   "mimetype": "text/x-python",
   "name": "python",
   "nbconvert_exporter": "python",
   "pygments_lexer": "ipython3",
   "version": "3.7.5"
  },
  "widgets": {
   "state": {
    "024355b9f32741b7a5def6586a92eac1": {
     "views": [
      {
       "cell_index": 4
      },
      {
       "cell_index": 5
      },
      {
       "cell_index": 4
      },
      {
       "cell_index": 4
      }
     ]
    },
    "04043a84d6f445e58cda51b6ec7d2cd0": {
     "views": [
      {
       "cell_index": 10
      }
     ]
    },
    "04be3224d9c2438f80afcebe971b2538": {
     "views": [
      {
       "cell_index": 11
      }
     ]
    },
    "0696eca86f6249e9a117f877166b516e": {
     "views": [
      {
       "cell_index": 10
      }
     ]
    },
    "06a8f76e1c0d47f897eaf15ba545d74f": {
     "views": [
      {
       "cell_index": 10
      }
     ]
    },
    "078c5daf18354149908f38d704bddfc8": {
     "views": [
      {
       "cell_index": 10
      }
     ]
    },
    "0a039a920bba4498861d2cf8e2937b2d": {
     "views": [
      {
       "cell_index": 4
      },
      {
       "cell_index": 4
      },
      {
       "cell_index": 4
      }
     ]
    },
    "0a40166d336b4dc88e506402636e6009": {
     "views": [
      {
       "cell_index": 10
      }
     ]
    },
    "0a53739ced05482f8ba0b532ee81b875": {
     "views": [
      {
       "cell_index": 4
      }
     ]
    },
    "0c28951cb4334b43b790dcaba5922eba": {
     "views": [
      {
       "cell_index": 4
      },
      {
       "cell_index": 4
      }
     ]
    },
    "0cabc619caf84578bb8d5d65cdc6f476": {
     "views": [
      {
       "cell_index": 10
      }
     ]
    },
    "0d6ad356d510498eb2bfe9db7d08ceff": {
     "views": [
      {
       "cell_index": 10
      },
      {
       "cell_index": 10
      }
     ]
    },
    "0e4b64e41ac24d239de9618efd99e01e": {
     "views": [
      {
       "cell_index": 10
      }
     ]
    },
    "0e8dbe58ca9d46a9b46eed0045709512": {
     "views": [
      {
       "cell_index": 10
      }
     ]
    },
    "0ea387cd423b4c8d992f713db0b5c97f": {
     "views": [
      {
       "cell_index": 10
      }
     ]
    },
    "0fe783a1d4eb42d08e51ca27e2381cf5": {
     "views": [
      {
       "cell_index": 10
      }
     ]
    },
    "0fee7ea700314bd4a8a97f80238bbee5": {
     "views": [
      {
       "cell_index": 10
      }
     ]
    },
    "113b1fb5aa134766917ea7b0ab7e40e7": {
     "views": [
      {
       "cell_index": 10
      }
     ]
    },
    "115d74e8ce77473ba10cc76994193fa4": {
     "views": [
      {
       "cell_index": 16
      }
     ]
    },
    "13b394680ec14af297c11bc7cfd8a63e": {
     "views": [
      {
       "cell_index": 10
      }
     ]
    },
    "14e45513d1fd496c821f880b9bfb1866": {
     "views": [
      {
       "cell_index": 10
      },
      {
       "cell_index": 10
      }
     ]
    },
    "16aa4c1449f248bd899f28248d5f8363": {
     "views": [
      {
       "cell_index": 11
      }
     ]
    },
    "1962d2631cf94438b410ae7b3fb7ee0b": {
     "views": [
      {
       "cell_index": 4
      },
      {
       "cell_index": 4
      },
      {
       "cell_index": 4
      }
     ]
    },
    "19be77879b8c4afd96d94feea47bb427": {
     "views": [
      {
       "cell_index": 5
      }
     ]
    },
    "1a5c029dfb2949f6a04d122a3650a04e": {
     "views": [
      {
       "cell_index": 4
      }
     ]
    },
    "1c044e8e11104adda2f2e7a9a4d5b3c6": {
     "views": [
      {
       "cell_index": 5
      }
     ]
    },
    "202f46662055485d84fb6060aa2034d2": {
     "views": [
      {
       "cell_index": 10
      }
     ]
    },
    "2563110cb5ce43dcb6b4ba0ca9230b49": {
     "views": [
      {
       "cell_index": 10
      }
     ]
    },
    "2564b25f444a4f42be7a3831a454727b": {
     "views": [
      {
       "cell_index": 4
      },
      {
       "cell_index": 5
      },
      {
       "cell_index": 4
      },
      {
       "cell_index": 4
      }
     ]
    },
    "26fdd37a289f4c338db322e63c5377f9": {
     "views": [
      {
       "cell_index": 10
      }
     ]
    },
    "2919758d97da4087970259eb7d76629f": {
     "views": [
      {
       "cell_index": 4
      },
      {
       "cell_index": 4
      }
     ]
    },
    "2a130c9d25e34d6599772fbb4d9cedc6": {
     "views": [
      {
       "cell_index": 10
      },
      {
       "cell_index": 10
      }
     ]
    },
    "2ae0735d0274466dbc0e976f7ffdcc0f": {
     "views": [
      {
       "cell_index": 4
      }
     ]
    },
    "2b79089b6fc944a79d355c0613a517c6": {
     "views": [
      {
       "cell_index": 11
      },
      {
       "cell_index": 11
      },
      {
       "cell_index": 11
      }
     ]
    },
    "2d3b0d09d782470a95816de38d01b167": {
     "views": [
      {
       "cell_index": 10
      }
     ]
    },
    "31e2321bc88e453aa604f5efe1c40733": {
     "views": [
      {
       "cell_index": 4
      }
     ]
    },
    "324147e1a55947cfb0c767db9266b4a1": {
     "views": [
      {
       "cell_index": 4
      }
     ]
    },
    "32ab24eecaa542068656873b875a005f": {
     "views": [
      {
       "cell_index": 4
      }
     ]
    },
    "3574742f842d42bda2be5d0194a68db3": {
     "views": [
      {
       "cell_index": 10
      }
     ]
    },
    "368bcb226af2454e9855c524747d6e81": {
     "views": [
      {
       "cell_index": 10
      }
     ]
    },
    "39ffea5d9d544a71a9f7f209c97a7c79": {
     "views": [
      {
       "cell_index": 5
      },
      {
       "cell_index": 4
      }
     ]
    },
    "3bc32aaff58741a28dd0a6eeb25193be": {
     "views": [
      {
       "cell_index": 10
      }
     ]
    },
    "3e502eda842340b2aec1b565049898d7": {
     "views": [
      {
       "cell_index": 4
      },
      {
       "cell_index": 5
      },
      {
       "cell_index": 4
      },
      {
       "cell_index": 4
      }
     ]
    },
    "40e05953a0794a3089b6ddabf7d899c7": {
     "views": [
      {
       "cell_index": 10
      }
     ]
    },
    "411c28f7591047878c37969dbae21e32": {
     "views": [
      {
       "cell_index": 4
      }
     ]
    },
    "424537f1688d4ba1b698e17c4b3e0388": {
     "views": [
      {
       "cell_index": 5
      }
     ]
    },
    "42c062571c224d82a236310ec72b0a1f": {
     "views": [
      {
       "cell_index": 10
      }
     ]
    },
    "43a92d9c95a34bb5be283d504ce93b7a": {
     "views": [
      {
       "cell_index": 10
      }
     ]
    },
    "43bb226c22f7481997174f768b2c1b7b": {
     "views": [
      {
       "cell_index": 10
      }
     ]
    },
    "446027809610407694f1af50326cca7d": {
     "views": [
      {
       "cell_index": 16
      }
     ]
    },
    "4560599ec0204f548abd7fd306f3a82e": {
     "views": [
      {
       "cell_index": 16
      }
     ]
    },
    "45640c43b67047a8912a3e37c6356c09": {
     "views": [
      {
       "cell_index": 11
      },
      {
       "cell_index": 11
      }
     ]
    },
    "46b6e99f267f40edaeced31cf376d167": {
     "views": [
      {
       "cell_index": 4
      },
      {
       "cell_index": 4
      }
     ]
    },
    "472edc4fa6db4239b368392731636249": {
     "views": [
      {
       "cell_index": 4
      }
     ]
    },
    "4797d6fdd6574832ae6b635d5dc52446": {
     "views": [
      {
       "cell_index": 9
      }
     ]
    },
    "4872f3676fb449168a5a02e355f7db68": {
     "views": [
      {
       "cell_index": 5
      },
      {
       "cell_index": 4
      }
     ]
    },
    "494ec7b62d86449c9d68a06e39f50733": {
     "views": [
      {
       "cell_index": 9
      }
     ]
    },
    "49cf42aa37e842a38e362c863583404a": {
     "views": [
      {
       "cell_index": 11
      }
     ]
    },
    "4b330ee9351e46b58b48f82525756599": {
     "views": [
      {
       "cell_index": 10
      }
     ]
    },
    "4b40d9936fdd4abf93a5da58333df37e": {
     "views": [
      {
       "cell_index": 10
      }
     ]
    },
    "4e5993de752f44238376ebf8039a39d9": {
     "views": [
      {
       "cell_index": 10
      }
     ]
    },
    "4e8aaffd554046a8ad62609919e27807": {
     "views": [
      {
       "cell_index": 10
      },
      {
       "cell_index": 10
      }
     ]
    },
    "4f3918593bc0498b9d2cba9a8ce5022a": {
     "views": [
      {
       "cell_index": 4
      }
     ]
    },
    "4fdbe076a9374e1ba675e0bb9c794870": {
     "views": [
      {
       "cell_index": 10
      },
      {
       "cell_index": 10
      }
     ]
    },
    "512e20a3c3924eb489f700d6f3f5b126": {
     "views": [
      {
       "cell_index": 4
      }
     ]
    },
    "56edf6049dfa4ce8aa7b7743fd1ad9aa": {
     "views": [
      {
       "cell_index": 4
      }
     ]
    },
    "5781a70309634c2c8ccdeb2158110732": {
     "views": [
      {
       "cell_index": 10
      }
     ]
    },
    "59562d90e5224d08904d84132356fe1b": {
     "views": [
      {
       "cell_index": 10
      },
      {
       "cell_index": 10
      }
     ]
    },
    "5a5ca0a6928341fd9a6a331acfd53cd6": {
     "views": [
      {
       "cell_index": 10
      }
     ]
    },
    "5cb8128149214ecba97147c6eb4c89c9": {
     "views": [
      {
       "cell_index": 11
      }
     ]
    },
    "5d072d77a3f34ff09295a8d287f24e72": {
     "views": [
      {
       "cell_index": 11
      }
     ]
    },
    "5f4044f1a72241e181b366e692223f02": {
     "views": [
      {
       "cell_index": 10
      }
     ]
    },
    "61cac33473e5483d880fd9f0f8a18fc1": {
     "views": [
      {
       "cell_index": 9
      }
     ]
    },
    "62936391a5a847b88e39a69b73a37a83": {
     "views": [
      {
       "cell_index": 10
      },
      {
       "cell_index": 10
      }
     ]
    },
    "62ca53a9903e49ea894757582034bdfe": {
     "views": [
      {
       "cell_index": 10
      },
      {
       "cell_index": 10
      },
      {
       "cell_index": 10
      }
     ]
    },
    "65353d8cb1534c6d8854ea6c9236081f": {
     "views": [
      {
       "cell_index": 10
      },
      {
       "cell_index": 10
      }
     ]
    },
    "66269a02c03b44b9bd56903e1f96c82b": {
     "views": [
      {
       "cell_index": 10
      }
     ]
    },
    "6671dc84cca14c9088b8d9061c44fd18": {
     "views": [
      {
       "cell_index": 4
      }
     ]
    },
    "66d77f3ed97a48a0964d8c2506060ff6": {
     "views": [
      {
       "cell_index": 10
      }
     ]
    },
    "6a288c30411e4fabb4d4cf22ffc3970d": {
     "views": [
      {
       "cell_index": 10
      },
      {
       "cell_index": 10
      }
     ]
    },
    "6a3de27f0eb543ed8659f6e172136e9a": {
     "views": [
      {
       "cell_index": 10
      }
     ]
    },
    "6d5f9a6d736c42469c05bab54e550a4c": {
     "views": [
      {
       "cell_index": 4
      }
     ]
    },
    "6dacd28ef35645298c1cab07278b2be8": {
     "views": [
      {
       "cell_index": 4
      }
     ]
    },
    "6ff05d6896fc4fb3a22f5f57b054e680": {
     "views": [
      {
       "cell_index": 10
      }
     ]
    },
    "71508a75146d4979a55d6d0d555fdb5d": {
     "views": [
      {
       "cell_index": 10
      }
     ]
    },
    "73675b6a50db4f1caaeed3339e2c1617": {
     "views": [
      {
       "cell_index": 10
      },
      {
       "cell_index": 10
      }
     ]
    },
    "7694455ae198460db0bb07092e399b95": {
     "views": [
      {
       "cell_index": 11
      }
     ]
    },
    "7741b3cd479a45b19a1e1dc72a2584d6": {
     "views": [
      {
       "cell_index": 10
      },
      {
       "cell_index": 10
      }
     ]
    },
    "79536fd0aa904d39b6c870d69373beaf": {
     "views": [
      {
       "cell_index": 10
      }
     ]
    },
    "799f7f4513ea42cea40a7fc0e565b238": {
     "views": [
      {
       "cell_index": 4
      }
     ]
    },
    "7a822469833f4db78a9cc1ec051b6d13": {
     "views": [
      {
       "cell_index": 10
      }
     ]
    },
    "7ad7667d1a7b495585a8bc64479d04a2": {
     "views": [
      {
       "cell_index": 10
      }
     ]
    },
    "7b8814430e954d6db9376f21941af674": {
     "views": [
      {
       "cell_index": 4
      },
      {
       "cell_index": 5
      },
      {
       "cell_index": 4
      },
      {
       "cell_index": 4
      }
     ]
    },
    "7be8b0edf7414b5898a0c0c1a2700b81": {
     "views": [
      {
       "cell_index": 16
      }
     ]
    },
    "7e2f2239a77046418d02000fc138c2c6": {
     "views": [
      {
       "cell_index": 10
      }
     ]
    },
    "81567f31b6664b00a7a6c058e2231ea4": {
     "views": [
      {
       "cell_index": 10
      }
     ]
    },
    "826a582b69134bc798611dc2715e8c1f": {
     "views": [
      {
       "cell_index": 9
      }
     ]
    },
    "84c7cfaa3dbd43dd87c24a0d73d7792e": {
     "views": [
      {
       "cell_index": 10
      },
      {
       "cell_index": 10
      }
     ]
    },
    "84e1ec9f9fbc4e9d9430607f33073259": {
     "views": [
      {
       "cell_index": 11
      },
      {
       "cell_index": 11
      },
      {
       "cell_index": 11
      }
     ]
    },
    "852670dad5c04283a91952464b7cc231": {
     "views": [
      {
       "cell_index": 16
      }
     ]
    },
    "856f82cfc97f48f4982e228c09ca0652": {
     "views": [
      {
       "cell_index": 11
      },
      {
       "cell_index": 11
      },
      {
       "cell_index": 11
      }
     ]
    },
    "8591027340ab4b05857109a71ad2e346": {
     "views": [
      {
       "cell_index": 10
      },
      {
       "cell_index": 10
      }
     ]
    },
    "86993f97428a4bc3b0d00392ae5591f4": {
     "views": [
      {
       "cell_index": 4
      },
      {
       "cell_index": 4
      },
      {
       "cell_index": 4
      }
     ]
    },
    "8ad74c0e934943ea837f24002ff9648b": {
     "views": [
      {
       "cell_index": 10
      },
      {
       "cell_index": 10
      }
     ]
    },
    "8ae8a67294c847de9284981b04774cdf": {
     "views": [
      {
       "cell_index": 4
      },
      {
       "cell_index": 4
      },
      {
       "cell_index": 4
      }
     ]
    },
    "8afb4eea00a14bea9fd1f7c08d425ae8": {
     "views": [
      {
       "cell_index": 4
      }
     ]
    },
    "8b52eb20244f4475b542172d4bfcab7e": {
     "views": [
      {
       "cell_index": 10
      }
     ]
    },
    "8c986168ad9b47fb92002967a09e5287": {
     "views": [
      {
       "cell_index": 10
      }
     ]
    },
    "8ca72f226b2544d0820db53105bfbf56": {
     "views": [
      {
       "cell_index": 16
      }
     ]
    },
    "8d0a7a81ba1e4609b3fa294867e83428": {
     "views": [
      {
       "cell_index": 10
      }
     ]
    },
    "9199e593863644fe8ba3e18e324c2a87": {
     "views": [
      {
       "cell_index": 5
      }
     ]
    },
    "920112e03d24440da19013e429832e3f": {
     "views": [
      {
       "cell_index": 10
      }
     ]
    },
    "949c57396a8e422887387b072678f44e": {
     "views": [
      {
       "cell_index": 4
      }
     ]
    },
    "95313da489304f42ad0d020b6d536faa": {
     "views": [
      {
       "cell_index": 10
      }
     ]
    },
    "998fb3f728ec400790f79f6748295e91": {
     "views": [
      {
       "cell_index": 11
      }
     ]
    },
    "99937f22f8424d8a82c967fe13bf6c24": {
     "views": [
      {
       "cell_index": 5
      }
     ]
    },
    "9a8130b83dd34992867a0d86a58b4a6a": {
     "views": [
      {
       "cell_index": 4
      }
     ]
    },
    "9ba33f4d42754cad9039cb67a3d178f4": {
     "views": [
      {
       "cell_index": 10
      },
      {
       "cell_index": 10
      }
     ]
    },
    "9c090c7a1f85421a9f44fcfe1fbb24a3": {
     "views": [
      {
       "cell_index": 10
      }
     ]
    },
    "9e488ceefd97494984286236ce0ab955": {
     "views": [
      {
       "cell_index": 10
      },
      {
       "cell_index": 10
      }
     ]
    },
    "9e4ec44ac20841e59806348db92fa795": {
     "views": [
      {
       "cell_index": 17
      }
     ]
    },
    "9ecc96c177fc4c99a7ae51c1b69dfd22": {
     "views": [
      {
       "cell_index": 4
      }
     ]
    },
    "a31d8dab08dd410c8ed6c5a3f04e0d06": {
     "views": [
      {
       "cell_index": 10
      }
     ]
    },
    "a33af3590a16492a844fbf80a2dade49": {
     "views": [
      {
       "cell_index": 10
      }
     ]
    },
    "a45aa3e9ae054e8cb494139fb07d9168": {
     "views": [
      {
       "cell_index": 10
      }
     ]
    },
    "a62d9d34ca3841b0bad4f3c96f8ae3ce": {
     "views": [
      {
       "cell_index": 10
      }
     ]
    },
    "a773fb578a4d456694d958f07c80f3e2": {
     "views": [
      {
       "cell_index": 4
      }
     ]
    },
    "a97e58bcbb684fb8a2a3f120c49d72ec": {
     "views": [
      {
       "cell_index": 5
      },
      {
       "cell_index": 4
      }
     ]
    },
    "a9cd9caafd83434ca59f8bd4518581a8": {
     "views": [
      {
       "cell_index": 10
      }
     ]
    },
    "ab4574c7a50442fdb49a5670fb57053a": {
     "views": [
      {
       "cell_index": 10
      }
     ]
    },
    "adb2de4fb02f49f3860ddb686c3cb347": {
     "views": [
      {
       "cell_index": 16
      },
      {
       "cell_index": 16
      }
     ]
    },
    "ae3de943d3d243909714c1a3bf7b4b4b": {
     "views": [
      {
       "cell_index": 5
      },
      {
       "cell_index": 4
      }
     ]
    },
    "af3a6f7186a94b1cb38d61229156780a": {
     "views": [
      {
       "cell_index": 4
      }
     ]
    },
    "afbe806495244a2bbbff75f0bc390c9f": {
     "views": [
      {
       "cell_index": 11
      }
     ]
    },
    "b1bc681345294371bad28d8902f76aea": {
     "views": [
      {
       "cell_index": 5
      }
     ]
    },
    "b1c031b3dda241abad77172765b85206": {
     "views": [
      {
       "cell_index": 11
      }
     ]
    },
    "b38dd6c0bd9846a686d5d2c56ba8921d": {
     "views": [
      {
       "cell_index": 11
      }
     ]
    },
    "b910eebc012540699d349104b7c7b319": {
     "views": [
      {
       "cell_index": 4
      },
      {
       "cell_index": 5
      },
      {
       "cell_index": 4
      },
      {
       "cell_index": 4
      }
     ]
    },
    "b9e3cbee244f4500a107bd5f698d3479": {
     "views": [
      {
       "cell_index": 10
      }
     ]
    },
    "baab8fe89632477fadb8278b8c9b6b49": {
     "views": [
      {
       "cell_index": 10
      },
      {
       "cell_index": 10
      }
     ]
    },
    "bbe1042eac1b4bd391de1b0b6b747b1b": {
     "views": [
      {
       "cell_index": 10
      }
     ]
    },
    "bbf5706d448f4120bc7997e9a23b9455": {
     "views": [
      {
       "cell_index": 4
      },
      {
       "cell_index": 4
      }
     ]
    },
    "bf92c86cbd304f2faeddc21f18dc8ce8": {
     "views": [
      {
       "cell_index": 4
      }
     ]
    },
    "bff5e14cce074085a65f1b9a6b744672": {
     "views": [
      {
       "cell_index": 10
      }
     ]
    },
    "c2578f3d1a374d33bd3e90529abe4628": {
     "views": [
      {
       "cell_index": 11
      }
     ]
    },
    "c36d8249bf1e4bda9217ac1c2f0a453c": {
     "views": [
      {
       "cell_index": 4
      }
     ]
    },
    "c4eaf050d09541a093d94d402542a0aa": {
     "views": [
      {
       "cell_index": 10
      },
      {
       "cell_index": 10
      }
     ]
    },
    "c650fb396ba44db68f26b14bf3b567f9": {
     "views": [
      {
       "cell_index": 2
      }
     ]
    },
    "c85d7492cba24f6f9f3d9ecb385423e4": {
     "views": [
      {
       "cell_index": 4
      }
     ]
    },
    "c93d348ee5394cada073b55f3d8b7d94": {
     "views": [
      {
       "cell_index": 4
      }
     ]
    },
    "ca8eaa51fbe94adca91d339f7618bc6c": {
     "views": [
      {
       "cell_index": 5
      },
      {
       "cell_index": 4
      }
     ]
    },
    "cc3d8473d33f47adacf4515b38317e0e": {
     "views": [
      {
       "cell_index": 11
      }
     ]
    },
    "ccc169a796624d398b1afed5eecdbbfd": {
     "views": [
      {
       "cell_index": 4
      }
     ]
    },
    "cd8ec031b1a044bcada704d9809cafeb": {
     "views": [
      {
       "cell_index": 10
      }
     ]
    },
    "cedb764463b6414ca239b4dd786fe271": {
     "views": [
      {
       "cell_index": 10
      }
     ]
    },
    "d0f5fb62eb004223b555fc61db6cdd75": {
     "views": [
      {
       "cell_index": 5
      },
      {
       "cell_index": 4
      }
     ]
    },
    "d462e0f517574e8dacb14e327a9e2f43": {
     "views": [
      {
       "cell_index": 11
      }
     ]
    },
    "d47365b3a6f54bc7bd68637b38711295": {
     "views": [
      {
       "cell_index": 10
      }
     ]
    },
    "d66f63dcce814198bb7d32aa026e1471": {
     "views": [
      {
       "cell_index": 10
      }
     ]
    },
    "d71b47d3348841ebba05701c436d3f08": {
     "views": [
      {
       "cell_index": 4
      }
     ]
    },
    "d7bcde53aab44cd3ba02d40672f7c384": {
     "views": [
      {
       "cell_index": 10
      },
      {
       "cell_index": 10
      }
     ]
    },
    "d7fad25177a940bf83206957d19d5c8c": {
     "views": [
      {
       "cell_index": 10
      },
      {
       "cell_index": 10
      }
     ]
    },
    "d89f9b5af96b450689545decf85c532f": {
     "views": [
      {
       "cell_index": 10
      }
     ]
    },
    "d8fd50a74721428ca5318ce70ef304d2": {
     "views": [
      {
       "cell_index": 10
      },
      {
       "cell_index": 10
      }
     ]
    },
    "d9da66b48d46463a8e99bb20e797a715": {
     "views": [
      {
       "cell_index": 10
      }
     ]
    },
    "d9f8e9859cfb45d28bf1d43dbcc1e52d": {
     "views": [
      {
       "cell_index": 5
      },
      {
       "cell_index": 4
      }
     ]
    },
    "db744c1d30d645ce8f9380795722a79d": {
     "views": [
      {
       "cell_index": 10
      }
     ]
    },
    "dca98f358259492d8c2129742e7cdd86": {
     "views": [
      {
       "cell_index": 10
      }
     ]
    },
    "dcbf99b750484c6b993a78e4f2d4da96": {
     "views": [
      {
       "cell_index": 10
      }
     ]
    },
    "dd8449a36f10409a9149b5f142efed29": {
     "views": [
      {
       "cell_index": 4
      },
      {
       "cell_index": 5
      },
      {
       "cell_index": 4
      },
      {
       "cell_index": 4
      }
     ]
    },
    "de6992494e7b4a389899934910c5bdc6": {
     "views": [
      {
       "cell_index": 10
      }
     ]
    },
    "df4821db8d7b433aa1faea54644c2c61": {
     "views": [
      {
       "cell_index": 10
      },
      {
       "cell_index": 10
      }
     ]
    },
    "df78d79b1e8b43b293987293ce8070c5": {
     "views": [
      {
       "cell_index": 10
      }
     ]
    },
    "dfc7622a43ea4579b8e2cf0c79e41a67": {
     "views": [
      {
       "cell_index": 10
      }
     ]
    },
    "dfc90c4fa8f043bcbc7de217d8ccb3ab": {
     "views": [
      {
       "cell_index": 4
      },
      {
       "cell_index": 4
      }
     ]
    },
    "eac156d9e51f4482b0691ad1f20872de": {
     "views": [
      {
       "cell_index": 19
      }
     ]
    },
    "eb6702b56441480d8b51cf09dd78f268": {
     "views": [
      {
       "cell_index": 4
      },
      {
       "cell_index": 4
      },
      {
       "cell_index": 4
      }
     ]
    },
    "edce36176f2b40c78b50fbe05579f2e3": {
     "views": [
      {
       "cell_index": 10
      }
     ]
    },
    "edd3d0569df843b4978397e7912a9c2f": {
     "views": [
      {
       "cell_index": 11
      }
     ]
    },
    "ee4e01e44c09473bbb4f0bdf576fcc80": {
     "views": [
      {
       "cell_index": 10
      },
      {
       "cell_index": 10
      }
     ]
    },
    "ef4e0a07d79c4706b98d4f59b5db0384": {
     "views": [
      {
       "cell_index": 11
      }
     ]
    },
    "f6678cba972a4b8384efe5b3e0031312": {
     "views": [
      {
       "cell_index": 11
      }
     ]
    },
    "f7095534caa44f08a1e52e16b8f781ec": {
     "views": [
      {
       "cell_index": 4
      }
     ]
    },
    "fcc35884894648319fb4458f9630096d": {
     "views": [
      {
       "cell_index": 4
      }
     ]
    },
    "fe782fd4828f47febdebba96cfa2615c": {
     "views": [
      {
       "cell_index": 4
      },
      {
       "cell_index": 5
      },
      {
       "cell_index": 4
      },
      {
       "cell_index": 4
      }
     ]
    }
   },
   "version": "1.2.0"
  }
 },
 "nbformat": 4,
 "nbformat_minor": 0
}
